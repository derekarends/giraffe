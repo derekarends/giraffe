{
 "cells": [
  {
   "cell_type": "code",
   "execution_count": 2,
   "metadata": {},
   "outputs": [
    {
     "data": {
      "text/markdown": [
       "```mermaid\n",
       "graph TD\n",
       "    A --> B\n",
       "    A --> C\n",
       "    B --> C\n",
       "```"
      ],
      "text/plain": [
       "<IPython.core.display.Markdown object>"
      ]
     },
     "metadata": {},
     "output_type": "display_data"
    }
   ],
   "source": [
    "\n",
    "from graph import DecisionNode, Edge, Graph\n",
    "\n",
    "dag = (\n",
    "  Graph()\n",
    "  .add_node(DecisionNode(id=\"A\"))\n",
    "  .add_node(DecisionNode(id=\"B\"))\n",
    "  .add_node(DecisionNode(id=\"C\"))\n",
    "  .add_edge(Edge(source=\"A\", target=\"B\"))\n",
    "  .add_edge(Edge(source=\"A\", target=\"C\"))\n",
    "  .add_edge(Edge(source=\"B\", target=\"C\"))\n",
    ")\n",
    "\n",
    "# Execute starting from node A\n",
    "# dag.execute(\"A\")\n",
    "dag.draw_graph()"
   ]
  }
 ],
 "metadata": {
  "kernelspec": {
   "display_name": ".venv",
   "language": "python",
   "name": "python3"
  },
  "language_info": {
   "codemirror_mode": {
    "name": "ipython",
    "version": 3
   },
   "file_extension": ".py",
   "mimetype": "text/x-python",
   "name": "python",
   "nbconvert_exporter": "python",
   "pygments_lexer": "ipython3",
   "version": "3.12.0"
  }
 },
 "nbformat": 4,
 "nbformat_minor": 2
}
